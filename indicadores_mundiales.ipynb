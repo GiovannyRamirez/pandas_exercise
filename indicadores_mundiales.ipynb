{
  "nbformat": 4,
  "nbformat_minor": 0,
  "metadata": {
    "colab": {
      "provenance": []
    },
    "kernelspec": {
      "name": "python3",
      "display_name": "Python 3"
    },
    "language_info": {
      "name": "python"
    }
  },
  "cells": [
    {
      "cell_type": "code",
      "source": [
        "import pandas as pd\n",
        "import numpy as np\n",
        "import matplotlib.pyplot as plt "
      ],
      "metadata": {
        "id": "eSVgydR0PHr4"
      },
      "execution_count": 1,
      "outputs": []
    },
    {
      "cell_type": "markdown",
      "source": [
        "- Leer archivo csv"
      ],
      "metadata": {
        "id": "wEqcfzUWQUPp"
      }
    },
    {
      "cell_type": "code",
      "source": [
        "mundial_info = pd.read_csv(\"/content/indicadores-mundiales.csv\")"
      ],
      "metadata": {
        "id": "yy4Zd5T5QKOY"
      },
      "execution_count": 2,
      "outputs": []
    },
    {
      "cell_type": "markdown",
      "source": [
        "- Conocer qué columnas posee"
      ],
      "metadata": {
        "id": "CfhaSTI4YOLQ"
      }
    },
    {
      "cell_type": "code",
      "source": [
        "sorted(mundial_info.columns)"
      ],
      "metadata": {
        "colab": {
          "base_uri": "https://localhost:8080/"
        },
        "id": "RECfFY0VQeLi",
        "outputId": "d66e0e3e-c97b-4e6e-d5ff-2d559b54b1af"
      },
      "execution_count": 3,
      "outputs": [
        {
          "output_type": "execute_result",
          "data": {
            "text/plain": [
              "['Ano',\n",
              " 'Dias para iniciar un negocio',\n",
              " 'Emisiones de CO2',\n",
              " 'Esperanza de vida (mujeres)',\n",
              " 'Esperanza de vida (varones)',\n",
              " 'Facilidad para hacer negocios',\n",
              " 'Gasto en salud ( del PIB)',\n",
              " 'Gasto en salud (per capita)',\n",
              " 'Horas preparar los impuestos',\n",
              " 'Interes de prestamos',\n",
              " 'PIB',\n",
              " 'Pais',\n",
              " 'Poblacion 0-14',\n",
              " 'Poblacion 15-64',\n",
              " 'Poblacion 65+',\n",
              " 'Poblacion total',\n",
              " 'Poblacion urbana',\n",
              " 'Region',\n",
              " 'Tasa de mortalidad infantil',\n",
              " 'Tasa de natalidad',\n",
              " 'Tasa tributaria empresarial',\n",
              " 'Turismo emisor',\n",
              " 'Turismo receptivo',\n",
              " 'Uso de Internet',\n",
              " 'Uso de energia',\n",
              " 'Uso de telefonos celulares']"
            ]
          },
          "metadata": {},
          "execution_count": 3
        }
      ]
    },
    {
      "cell_type": "markdown",
      "source": [
        "- Segmentación de columnas de interés (Región, País, Población Total, Emisiones de CO2).\n",
        "- Ordenar por Región y País"
      ],
      "metadata": {
        "id": "KNgWjhItYSi4"
      }
    },
    {
      "cell_type": "code",
      "source": [
        "mundial_info_segmented = mundial_info.loc[:, [\"Region\", \"Pais\", \"Poblacion total\", \"Emisiones de CO2\"]]\n",
        "mundial_info_segmented_ordered = mundial_info_segmented.sort_values(by=[\"Region\", \"Pais\"])\n",
        "mundial_info_segmented_ordered = mundial_info_segmented.groupby([\"Pais\", \"Region\"]).mean().reset_index()"
      ],
      "metadata": {
        "id": "laquaJP0Q3V3"
      },
      "execution_count": 4,
      "outputs": []
    },
    {
      "cell_type": "markdown",
      "source": [
        "- Agrupar por región.\n",
        "- Calcular promedio de población"
      ],
      "metadata": {
        "id": "Rq2Z8XAKaOHh"
      }
    },
    {
      "cell_type": "code",
      "source": [
        "mundial_info_population_region_grouped = mundial_info_segmented_ordered.groupby([\"Region\"])[\"Poblacion total\"].transform(\"mean\")\n",
        "mundial_info_segmented_ordered[\"Población media por región\"] = mundial_info_population_region_grouped"
      ],
      "metadata": {
        "id": "6yvvisaUZHIa"
      },
      "execution_count": 5,
      "outputs": []
    },
    {
      "cell_type": "markdown",
      "source": [
        "- Calcular promedio Emisiones CO2"
      ],
      "metadata": {
        "id": "P4fbsQapaTdz"
      }
    },
    {
      "cell_type": "code",
      "source": [
        "mundial_info_co2_region_grouped = mundial_info_segmented_ordered.groupby([\"Region\"])[\"Emisiones de CO2\"].transform(\"mean\")\n",
        "mundial_info_segmented_ordered[\"Emisiones CO2 media por región\"] = mundial_info_co2_region_grouped"
      ],
      "metadata": {
        "id": "LDsBV1Teae_m"
      },
      "execution_count": 6,
      "outputs": []
    },
    {
      "cell_type": "markdown",
      "source": [
        "- Traer países con población por encima del promedio y con Emisiones por debajo del promedio"
      ],
      "metadata": {
        "id": "6J_N2ktHbvlK"
      }
    },
    {
      "cell_type": "code",
      "source": [
        "countries_less_co2_more_population = mundial_info_segmented_ordered[(mundial_info_segmented_ordered[\"Poblacion total\"] > mundial_info_segmented_ordered[\"Población media por región\"]) & (mundial_info_segmented_ordered[\"Emisiones de CO2\"] < mundial_info_segmented_ordered[\"Emisiones CO2 media por región\"])]"
      ],
      "metadata": {
        "id": "XWV872jxb76x"
      },
      "execution_count": 7,
      "outputs": []
    },
    {
      "cell_type": "markdown",
      "source": [
        "- Agrupar por país"
      ],
      "metadata": {
        "id": "I6vcjmpvduTj"
      }
    },
    {
      "cell_type": "code",
      "source": [
        "df = countries_less_co2_more_population.groupby([\"Pais\", \"Region\"]).mean().sort_values(by=[\"Region\"]).reset_index()\n",
        "df[\"Poblacion total\"] = df[\"Poblacion total\"].astype(\"int64\")\n",
        "df[\"Emisiones de CO2\"] = df[\"Emisiones de CO2\"].astype(\"int64\")\n",
        "df[\"Población media por región\"] = df[\"Población media por región\"].astype(\"int64\")\n",
        "df[\"Emisiones CO2 media por región\"] = df[\"Emisiones CO2 media por región\"].astype(\"int64\")\n",
        "df"
      ],
      "metadata": {
        "colab": {
          "base_uri": "https://localhost:8080/",
          "height": 739
        },
        "id": "ORmHpEG_gRxl",
        "outputId": "80a6c8b8-4527-4655-b488-965a106a6e8c"
      },
      "execution_count": 8,
      "outputs": [
        {
          "output_type": "execute_result",
          "data": {
            "text/plain": [
              "                  Pais         Region  Poblacion total  Emisiones de CO2  \\\n",
              "0            Banglades           Asia        136908013             33533   \n",
              "1             Pakistan           Asia        149590829            115862   \n",
              "2              Rumania         Europa         21866302             93834   \n",
              "3            Argentina   Las Americas         37616632            137254   \n",
              "4             Colombia   Las Americas         41214522             56470   \n",
              "5                 Peru   Las Americas         26543920             27757   \n",
              "6            Venezuela   Las Americas         25102208            177576   \n",
              "7   Papua Nueva Guinea        Oceania          5590441              3350   \n",
              "8                Siria  Oriente Medio         16841336             48297   \n",
              "9                Yemen  Oriente Medio         18296225             15990   \n",
              "10                Irak  Oriente Medio         24878949             84041   \n",
              "11          Mozambique         africa         19338703              1671   \n",
              "12               Ghana         africa         19808386              7125   \n",
              "13             Etiopia         africa         69997044              4962   \n",
              "14     Costa de Marfil         africa         16656123              6985   \n",
              "15    Congo (Kinshasa)         africa         26452071              1327   \n",
              "16             Camerun         africa         16791686              3604   \n",
              "17               Sudan         africa         29220717              8095   \n",
              "18            Tanzania         africa         35849675              3505   \n",
              "19              Uganda         africa         25982505              1676   \n",
              "20               Kenia         africa         33030308              8426   \n",
              "21          Madagascar         africa         16745049              1672   \n",
              "\n",
              "    Población media por región  Emisiones CO2 media por región  \n",
              "0                    103688142                          251142  \n",
              "1                    103688142                          251142  \n",
              "2                     16544558                          153709  \n",
              "3                     19079148                          189751  \n",
              "4                     19079148                          189751  \n",
              "5                     19079148                          189751  \n",
              "6                     19079148                          189751  \n",
              "7                      2111996                           29021  \n",
              "8                     13265779                           91285  \n",
              "9                     13265779                           91285  \n",
              "10                    13265779                           91285  \n",
              "11                    15763515                           18259  \n",
              "12                    15763515                           18259  \n",
              "13                    15763515                           18259  \n",
              "14                    15763515                           18259  \n",
              "15                    15763515                           18259  \n",
              "16                    15763515                           18259  \n",
              "17                    15763515                           18259  \n",
              "18                    15763515                           18259  \n",
              "19                    15763515                           18259  \n",
              "20                    15763515                           18259  \n",
              "21                    15763515                           18259  "
            ],
            "text/html": [
              "\n",
              "  <div id=\"df-c9e6964a-4586-4c4f-8f7a-d8e25d5719bd\">\n",
              "    <div class=\"colab-df-container\">\n",
              "      <div>\n",
              "<style scoped>\n",
              "    .dataframe tbody tr th:only-of-type {\n",
              "        vertical-align: middle;\n",
              "    }\n",
              "\n",
              "    .dataframe tbody tr th {\n",
              "        vertical-align: top;\n",
              "    }\n",
              "\n",
              "    .dataframe thead th {\n",
              "        text-align: right;\n",
              "    }\n",
              "</style>\n",
              "<table border=\"1\" class=\"dataframe\">\n",
              "  <thead>\n",
              "    <tr style=\"text-align: right;\">\n",
              "      <th></th>\n",
              "      <th>Pais</th>\n",
              "      <th>Region</th>\n",
              "      <th>Poblacion total</th>\n",
              "      <th>Emisiones de CO2</th>\n",
              "      <th>Población media por región</th>\n",
              "      <th>Emisiones CO2 media por región</th>\n",
              "    </tr>\n",
              "  </thead>\n",
              "  <tbody>\n",
              "    <tr>\n",
              "      <th>0</th>\n",
              "      <td>Banglades</td>\n",
              "      <td>Asia</td>\n",
              "      <td>136908013</td>\n",
              "      <td>33533</td>\n",
              "      <td>103688142</td>\n",
              "      <td>251142</td>\n",
              "    </tr>\n",
              "    <tr>\n",
              "      <th>1</th>\n",
              "      <td>Pakistan</td>\n",
              "      <td>Asia</td>\n",
              "      <td>149590829</td>\n",
              "      <td>115862</td>\n",
              "      <td>103688142</td>\n",
              "      <td>251142</td>\n",
              "    </tr>\n",
              "    <tr>\n",
              "      <th>2</th>\n",
              "      <td>Rumania</td>\n",
              "      <td>Europa</td>\n",
              "      <td>21866302</td>\n",
              "      <td>93834</td>\n",
              "      <td>16544558</td>\n",
              "      <td>153709</td>\n",
              "    </tr>\n",
              "    <tr>\n",
              "      <th>3</th>\n",
              "      <td>Argentina</td>\n",
              "      <td>Las Americas</td>\n",
              "      <td>37616632</td>\n",
              "      <td>137254</td>\n",
              "      <td>19079148</td>\n",
              "      <td>189751</td>\n",
              "    </tr>\n",
              "    <tr>\n",
              "      <th>4</th>\n",
              "      <td>Colombia</td>\n",
              "      <td>Las Americas</td>\n",
              "      <td>41214522</td>\n",
              "      <td>56470</td>\n",
              "      <td>19079148</td>\n",
              "      <td>189751</td>\n",
              "    </tr>\n",
              "    <tr>\n",
              "      <th>5</th>\n",
              "      <td>Peru</td>\n",
              "      <td>Las Americas</td>\n",
              "      <td>26543920</td>\n",
              "      <td>27757</td>\n",
              "      <td>19079148</td>\n",
              "      <td>189751</td>\n",
              "    </tr>\n",
              "    <tr>\n",
              "      <th>6</th>\n",
              "      <td>Venezuela</td>\n",
              "      <td>Las Americas</td>\n",
              "      <td>25102208</td>\n",
              "      <td>177576</td>\n",
              "      <td>19079148</td>\n",
              "      <td>189751</td>\n",
              "    </tr>\n",
              "    <tr>\n",
              "      <th>7</th>\n",
              "      <td>Papua Nueva Guinea</td>\n",
              "      <td>Oceania</td>\n",
              "      <td>5590441</td>\n",
              "      <td>3350</td>\n",
              "      <td>2111996</td>\n",
              "      <td>29021</td>\n",
              "    </tr>\n",
              "    <tr>\n",
              "      <th>8</th>\n",
              "      <td>Siria</td>\n",
              "      <td>Oriente Medio</td>\n",
              "      <td>16841336</td>\n",
              "      <td>48297</td>\n",
              "      <td>13265779</td>\n",
              "      <td>91285</td>\n",
              "    </tr>\n",
              "    <tr>\n",
              "      <th>9</th>\n",
              "      <td>Yemen</td>\n",
              "      <td>Oriente Medio</td>\n",
              "      <td>18296225</td>\n",
              "      <td>15990</td>\n",
              "      <td>13265779</td>\n",
              "      <td>91285</td>\n",
              "    </tr>\n",
              "    <tr>\n",
              "      <th>10</th>\n",
              "      <td>Irak</td>\n",
              "      <td>Oriente Medio</td>\n",
              "      <td>24878949</td>\n",
              "      <td>84041</td>\n",
              "      <td>13265779</td>\n",
              "      <td>91285</td>\n",
              "    </tr>\n",
              "    <tr>\n",
              "      <th>11</th>\n",
              "      <td>Mozambique</td>\n",
              "      <td>africa</td>\n",
              "      <td>19338703</td>\n",
              "      <td>1671</td>\n",
              "      <td>15763515</td>\n",
              "      <td>18259</td>\n",
              "    </tr>\n",
              "    <tr>\n",
              "      <th>12</th>\n",
              "      <td>Ghana</td>\n",
              "      <td>africa</td>\n",
              "      <td>19808386</td>\n",
              "      <td>7125</td>\n",
              "      <td>15763515</td>\n",
              "      <td>18259</td>\n",
              "    </tr>\n",
              "    <tr>\n",
              "      <th>13</th>\n",
              "      <td>Etiopia</td>\n",
              "      <td>africa</td>\n",
              "      <td>69997044</td>\n",
              "      <td>4962</td>\n",
              "      <td>15763515</td>\n",
              "      <td>18259</td>\n",
              "    </tr>\n",
              "    <tr>\n",
              "      <th>14</th>\n",
              "      <td>Costa de Marfil</td>\n",
              "      <td>africa</td>\n",
              "      <td>16656123</td>\n",
              "      <td>6985</td>\n",
              "      <td>15763515</td>\n",
              "      <td>18259</td>\n",
              "    </tr>\n",
              "    <tr>\n",
              "      <th>15</th>\n",
              "      <td>Congo (Kinshasa)</td>\n",
              "      <td>africa</td>\n",
              "      <td>26452071</td>\n",
              "      <td>1327</td>\n",
              "      <td>15763515</td>\n",
              "      <td>18259</td>\n",
              "    </tr>\n",
              "    <tr>\n",
              "      <th>16</th>\n",
              "      <td>Camerun</td>\n",
              "      <td>africa</td>\n",
              "      <td>16791686</td>\n",
              "      <td>3604</td>\n",
              "      <td>15763515</td>\n",
              "      <td>18259</td>\n",
              "    </tr>\n",
              "    <tr>\n",
              "      <th>17</th>\n",
              "      <td>Sudan</td>\n",
              "      <td>africa</td>\n",
              "      <td>29220717</td>\n",
              "      <td>8095</td>\n",
              "      <td>15763515</td>\n",
              "      <td>18259</td>\n",
              "    </tr>\n",
              "    <tr>\n",
              "      <th>18</th>\n",
              "      <td>Tanzania</td>\n",
              "      <td>africa</td>\n",
              "      <td>35849675</td>\n",
              "      <td>3505</td>\n",
              "      <td>15763515</td>\n",
              "      <td>18259</td>\n",
              "    </tr>\n",
              "    <tr>\n",
              "      <th>19</th>\n",
              "      <td>Uganda</td>\n",
              "      <td>africa</td>\n",
              "      <td>25982505</td>\n",
              "      <td>1676</td>\n",
              "      <td>15763515</td>\n",
              "      <td>18259</td>\n",
              "    </tr>\n",
              "    <tr>\n",
              "      <th>20</th>\n",
              "      <td>Kenia</td>\n",
              "      <td>africa</td>\n",
              "      <td>33030308</td>\n",
              "      <td>8426</td>\n",
              "      <td>15763515</td>\n",
              "      <td>18259</td>\n",
              "    </tr>\n",
              "    <tr>\n",
              "      <th>21</th>\n",
              "      <td>Madagascar</td>\n",
              "      <td>africa</td>\n",
              "      <td>16745049</td>\n",
              "      <td>1672</td>\n",
              "      <td>15763515</td>\n",
              "      <td>18259</td>\n",
              "    </tr>\n",
              "  </tbody>\n",
              "</table>\n",
              "</div>\n",
              "      <button class=\"colab-df-convert\" onclick=\"convertToInteractive('df-c9e6964a-4586-4c4f-8f7a-d8e25d5719bd')\"\n",
              "              title=\"Convert this dataframe to an interactive table.\"\n",
              "              style=\"display:none;\">\n",
              "        \n",
              "  <svg xmlns=\"http://www.w3.org/2000/svg\" height=\"24px\"viewBox=\"0 0 24 24\"\n",
              "       width=\"24px\">\n",
              "    <path d=\"M0 0h24v24H0V0z\" fill=\"none\"/>\n",
              "    <path d=\"M18.56 5.44l.94 2.06.94-2.06 2.06-.94-2.06-.94-.94-2.06-.94 2.06-2.06.94zm-11 1L8.5 8.5l.94-2.06 2.06-.94-2.06-.94L8.5 2.5l-.94 2.06-2.06.94zm10 10l.94 2.06.94-2.06 2.06-.94-2.06-.94-.94-2.06-.94 2.06-2.06.94z\"/><path d=\"M17.41 7.96l-1.37-1.37c-.4-.4-.92-.59-1.43-.59-.52 0-1.04.2-1.43.59L10.3 9.45l-7.72 7.72c-.78.78-.78 2.05 0 2.83L4 21.41c.39.39.9.59 1.41.59.51 0 1.02-.2 1.41-.59l7.78-7.78 2.81-2.81c.8-.78.8-2.07 0-2.86zM5.41 20L4 18.59l7.72-7.72 1.47 1.35L5.41 20z\"/>\n",
              "  </svg>\n",
              "      </button>\n",
              "      \n",
              "  <style>\n",
              "    .colab-df-container {\n",
              "      display:flex;\n",
              "      flex-wrap:wrap;\n",
              "      gap: 12px;\n",
              "    }\n",
              "\n",
              "    .colab-df-convert {\n",
              "      background-color: #E8F0FE;\n",
              "      border: none;\n",
              "      border-radius: 50%;\n",
              "      cursor: pointer;\n",
              "      display: none;\n",
              "      fill: #1967D2;\n",
              "      height: 32px;\n",
              "      padding: 0 0 0 0;\n",
              "      width: 32px;\n",
              "    }\n",
              "\n",
              "    .colab-df-convert:hover {\n",
              "      background-color: #E2EBFA;\n",
              "      box-shadow: 0px 1px 2px rgba(60, 64, 67, 0.3), 0px 1px 3px 1px rgba(60, 64, 67, 0.15);\n",
              "      fill: #174EA6;\n",
              "    }\n",
              "\n",
              "    [theme=dark] .colab-df-convert {\n",
              "      background-color: #3B4455;\n",
              "      fill: #D2E3FC;\n",
              "    }\n",
              "\n",
              "    [theme=dark] .colab-df-convert:hover {\n",
              "      background-color: #434B5C;\n",
              "      box-shadow: 0px 1px 3px 1px rgba(0, 0, 0, 0.15);\n",
              "      filter: drop-shadow(0px 1px 2px rgba(0, 0, 0, 0.3));\n",
              "      fill: #FFFFFF;\n",
              "    }\n",
              "  </style>\n",
              "\n",
              "      <script>\n",
              "        const buttonEl =\n",
              "          document.querySelector('#df-c9e6964a-4586-4c4f-8f7a-d8e25d5719bd button.colab-df-convert');\n",
              "        buttonEl.style.display =\n",
              "          google.colab.kernel.accessAllowed ? 'block' : 'none';\n",
              "\n",
              "        async function convertToInteractive(key) {\n",
              "          const element = document.querySelector('#df-c9e6964a-4586-4c4f-8f7a-d8e25d5719bd');\n",
              "          const dataTable =\n",
              "            await google.colab.kernel.invokeFunction('convertToInteractive',\n",
              "                                                     [key], {});\n",
              "          if (!dataTable) return;\n",
              "\n",
              "          const docLinkHtml = 'Like what you see? Visit the ' +\n",
              "            '<a target=\"_blank\" href=https://colab.research.google.com/notebooks/data_table.ipynb>data table notebook</a>'\n",
              "            + ' to learn more about interactive tables.';\n",
              "          element.innerHTML = '';\n",
              "          dataTable['output_type'] = 'display_data';\n",
              "          await google.colab.output.renderOutput(dataTable, element);\n",
              "          const docLink = document.createElement('div');\n",
              "          docLink.innerHTML = docLinkHtml;\n",
              "          element.appendChild(docLink);\n",
              "        }\n",
              "      </script>\n",
              "    </div>\n",
              "  </div>\n",
              "  "
            ]
          },
          "metadata": {},
          "execution_count": 8
        }
      ]
    },
    {
      "cell_type": "markdown",
      "source": [
        "- Agrupar por región"
      ],
      "metadata": {
        "id": "isyl4RBt_3iA"
      }
    },
    {
      "cell_type": "code",
      "source": [
        "df_to_plot = df.groupby([\"Region\"]).mean().reset_index()\n",
        "df_to_plot[\"Poblacion total\"] = df_to_plot[\"Poblacion total\"].astype(\"int64\")\n",
        "df_to_plot"
      ],
      "metadata": {
        "colab": {
          "base_uri": "https://localhost:8080/",
          "height": 238
        },
        "id": "0XBc_FQgqHbT",
        "outputId": "650f449a-bda9-4627-ec6f-a8066b4f52d8"
      },
      "execution_count": 9,
      "outputs": [
        {
          "output_type": "execute_result",
          "data": {
            "text/plain": [
              "          Region  Poblacion total  Emisiones de CO2  \\\n",
              "0           Asia        143249421      74697.500000   \n",
              "1         Europa         21866302      93834.000000   \n",
              "2   Las Americas         32619320      99764.250000   \n",
              "3        Oceania          5590441       3350.000000   \n",
              "4  Oriente Medio         20005503      49442.666667   \n",
              "5         africa         28170206       4458.909091   \n",
              "\n",
              "   Población media por región  Emisiones CO2 media por región  \n",
              "0                 103688142.0                        251142.0  \n",
              "1                  16544558.0                        153709.0  \n",
              "2                  19079148.0                        189751.0  \n",
              "3                   2111996.0                         29021.0  \n",
              "4                  13265779.0                         91285.0  \n",
              "5                  15763515.0                         18259.0  "
            ],
            "text/html": [
              "\n",
              "  <div id=\"df-bf6a7ab4-d98f-47f3-9ba4-dbd9d32063bb\">\n",
              "    <div class=\"colab-df-container\">\n",
              "      <div>\n",
              "<style scoped>\n",
              "    .dataframe tbody tr th:only-of-type {\n",
              "        vertical-align: middle;\n",
              "    }\n",
              "\n",
              "    .dataframe tbody tr th {\n",
              "        vertical-align: top;\n",
              "    }\n",
              "\n",
              "    .dataframe thead th {\n",
              "        text-align: right;\n",
              "    }\n",
              "</style>\n",
              "<table border=\"1\" class=\"dataframe\">\n",
              "  <thead>\n",
              "    <tr style=\"text-align: right;\">\n",
              "      <th></th>\n",
              "      <th>Region</th>\n",
              "      <th>Poblacion total</th>\n",
              "      <th>Emisiones de CO2</th>\n",
              "      <th>Población media por región</th>\n",
              "      <th>Emisiones CO2 media por región</th>\n",
              "    </tr>\n",
              "  </thead>\n",
              "  <tbody>\n",
              "    <tr>\n",
              "      <th>0</th>\n",
              "      <td>Asia</td>\n",
              "      <td>143249421</td>\n",
              "      <td>74697.500000</td>\n",
              "      <td>103688142.0</td>\n",
              "      <td>251142.0</td>\n",
              "    </tr>\n",
              "    <tr>\n",
              "      <th>1</th>\n",
              "      <td>Europa</td>\n",
              "      <td>21866302</td>\n",
              "      <td>93834.000000</td>\n",
              "      <td>16544558.0</td>\n",
              "      <td>153709.0</td>\n",
              "    </tr>\n",
              "    <tr>\n",
              "      <th>2</th>\n",
              "      <td>Las Americas</td>\n",
              "      <td>32619320</td>\n",
              "      <td>99764.250000</td>\n",
              "      <td>19079148.0</td>\n",
              "      <td>189751.0</td>\n",
              "    </tr>\n",
              "    <tr>\n",
              "      <th>3</th>\n",
              "      <td>Oceania</td>\n",
              "      <td>5590441</td>\n",
              "      <td>3350.000000</td>\n",
              "      <td>2111996.0</td>\n",
              "      <td>29021.0</td>\n",
              "    </tr>\n",
              "    <tr>\n",
              "      <th>4</th>\n",
              "      <td>Oriente Medio</td>\n",
              "      <td>20005503</td>\n",
              "      <td>49442.666667</td>\n",
              "      <td>13265779.0</td>\n",
              "      <td>91285.0</td>\n",
              "    </tr>\n",
              "    <tr>\n",
              "      <th>5</th>\n",
              "      <td>africa</td>\n",
              "      <td>28170206</td>\n",
              "      <td>4458.909091</td>\n",
              "      <td>15763515.0</td>\n",
              "      <td>18259.0</td>\n",
              "    </tr>\n",
              "  </tbody>\n",
              "</table>\n",
              "</div>\n",
              "      <button class=\"colab-df-convert\" onclick=\"convertToInteractive('df-bf6a7ab4-d98f-47f3-9ba4-dbd9d32063bb')\"\n",
              "              title=\"Convert this dataframe to an interactive table.\"\n",
              "              style=\"display:none;\">\n",
              "        \n",
              "  <svg xmlns=\"http://www.w3.org/2000/svg\" height=\"24px\"viewBox=\"0 0 24 24\"\n",
              "       width=\"24px\">\n",
              "    <path d=\"M0 0h24v24H0V0z\" fill=\"none\"/>\n",
              "    <path d=\"M18.56 5.44l.94 2.06.94-2.06 2.06-.94-2.06-.94-.94-2.06-.94 2.06-2.06.94zm-11 1L8.5 8.5l.94-2.06 2.06-.94-2.06-.94L8.5 2.5l-.94 2.06-2.06.94zm10 10l.94 2.06.94-2.06 2.06-.94-2.06-.94-.94-2.06-.94 2.06-2.06.94z\"/><path d=\"M17.41 7.96l-1.37-1.37c-.4-.4-.92-.59-1.43-.59-.52 0-1.04.2-1.43.59L10.3 9.45l-7.72 7.72c-.78.78-.78 2.05 0 2.83L4 21.41c.39.39.9.59 1.41.59.51 0 1.02-.2 1.41-.59l7.78-7.78 2.81-2.81c.8-.78.8-2.07 0-2.86zM5.41 20L4 18.59l7.72-7.72 1.47 1.35L5.41 20z\"/>\n",
              "  </svg>\n",
              "      </button>\n",
              "      \n",
              "  <style>\n",
              "    .colab-df-container {\n",
              "      display:flex;\n",
              "      flex-wrap:wrap;\n",
              "      gap: 12px;\n",
              "    }\n",
              "\n",
              "    .colab-df-convert {\n",
              "      background-color: #E8F0FE;\n",
              "      border: none;\n",
              "      border-radius: 50%;\n",
              "      cursor: pointer;\n",
              "      display: none;\n",
              "      fill: #1967D2;\n",
              "      height: 32px;\n",
              "      padding: 0 0 0 0;\n",
              "      width: 32px;\n",
              "    }\n",
              "\n",
              "    .colab-df-convert:hover {\n",
              "      background-color: #E2EBFA;\n",
              "      box-shadow: 0px 1px 2px rgba(60, 64, 67, 0.3), 0px 1px 3px 1px rgba(60, 64, 67, 0.15);\n",
              "      fill: #174EA6;\n",
              "    }\n",
              "\n",
              "    [theme=dark] .colab-df-convert {\n",
              "      background-color: #3B4455;\n",
              "      fill: #D2E3FC;\n",
              "    }\n",
              "\n",
              "    [theme=dark] .colab-df-convert:hover {\n",
              "      background-color: #434B5C;\n",
              "      box-shadow: 0px 1px 3px 1px rgba(0, 0, 0, 0.15);\n",
              "      filter: drop-shadow(0px 1px 2px rgba(0, 0, 0, 0.3));\n",
              "      fill: #FFFFFF;\n",
              "    }\n",
              "  </style>\n",
              "\n",
              "      <script>\n",
              "        const buttonEl =\n",
              "          document.querySelector('#df-bf6a7ab4-d98f-47f3-9ba4-dbd9d32063bb button.colab-df-convert');\n",
              "        buttonEl.style.display =\n",
              "          google.colab.kernel.accessAllowed ? 'block' : 'none';\n",
              "\n",
              "        async function convertToInteractive(key) {\n",
              "          const element = document.querySelector('#df-bf6a7ab4-d98f-47f3-9ba4-dbd9d32063bb');\n",
              "          const dataTable =\n",
              "            await google.colab.kernel.invokeFunction('convertToInteractive',\n",
              "                                                     [key], {});\n",
              "          if (!dataTable) return;\n",
              "\n",
              "          const docLinkHtml = 'Like what you see? Visit the ' +\n",
              "            '<a target=\"_blank\" href=https://colab.research.google.com/notebooks/data_table.ipynb>data table notebook</a>'\n",
              "            + ' to learn more about interactive tables.';\n",
              "          element.innerHTML = '';\n",
              "          dataTable['output_type'] = 'display_data';\n",
              "          await google.colab.output.renderOutput(dataTable, element);\n",
              "          const docLink = document.createElement('div');\n",
              "          docLink.innerHTML = docLinkHtml;\n",
              "          element.appendChild(docLink);\n",
              "        }\n",
              "      </script>\n",
              "    </div>\n",
              "  </div>\n",
              "  "
            ]
          },
          "metadata": {},
          "execution_count": 9
        }
      ]
    },
    {
      "cell_type": "markdown",
      "source": [
        "- Graficar población media de la región y población medio de los países filtrados de la región"
      ],
      "metadata": {
        "id": "713JY5ax_73H"
      }
    },
    {
      "cell_type": "code",
      "source": [
        "x_axis = df_to_plot[\"Region\"]\n",
        "y_axis = df_to_plot[\"Poblacion total\"]\n",
        "z_axis = df_to_plot[\"Población media por región\"]\n",
        "plt.bar(np.arange(len(x_axis)) - 0.2, y_axis, 0.4, label = \"Población total\")\n",
        "plt.bar(np.arange(len(x_axis)) + 0.2, z_axis, 0.4, label = \"Población media por región\")\n",
        "plt.xticks(np.arange(len(x_axis)), x_axis)\n",
        "plt.xlabel(\"Región\")\n",
        "plt.ylabel(\"Población\")\n",
        "plt.title(\"Población total\")\n",
        "plt.legend()\n",
        "plt.show()"
      ],
      "metadata": {
        "colab": {
          "base_uri": "https://localhost:8080/",
          "height": 296
        },
        "id": "HyNllexnq9xs",
        "outputId": "15ccbc34-7faf-4ca0-963e-cce72552c7ed"
      },
      "execution_count": 10,
      "outputs": [
        {
          "output_type": "display_data",
          "data": {
            "text/plain": [
              "<Figure size 432x288 with 1 Axes>"
            ],
            "image/png": "[encoded data removed]"
          },
          "metadata": {
            "needs_background": "light"
          }
        }
      ]
    },
    {
      "cell_type": "markdown",
      "source": [
        "- Graficar emisiones de CO2 media de la región y emisiones de CO2 media de los países filtrados"
      ],
      "metadata": {
        "id": "vOAejNzgAMRP"
      }
    },
    {
      "cell_type": "code",
      "source": [
        "x_axis = df_to_plot[\"Region\"]\n",
        "y_axis = df_to_plot[\"Emisiones de CO2\"]\n",
        "z_axis = df_to_plot[\"Emisiones CO2 media por región\"]\n",
        "plt.bar(np.arange(len(x_axis)) - 0.2, y_axis, 0.4, label = \"Emisiones de CO2\")\n",
        "plt.bar(np.arange(len(x_axis)) + 0.2, z_axis, 0.4, label = \"Emisiones CO2 media por región\")\n",
        "plt.xticks(np.arange(len(x_axis)), x_axis)\n",
        "plt.xlabel(\"Región\")\n",
        "plt.ylabel(\"Emisiones de CO2\")\n",
        "plt.title(\"Emisiones de CO2\")\n",
        "plt.legend()\n",
        "plt.show()"
      ],
      "metadata": {
        "colab": {
          "base_uri": "https://localhost:8080/",
          "height": 296
        },
        "id": "PUrjLVJKryAE",
        "outputId": "90981939-4f23-4a3b-b6db-7fae9840bd66"
      },
      "execution_count": 11,
      "outputs": [
        {
          "output_type": "display_data",
          "data": {
            "text/plain": [
              "<Figure size 432x288 with 1 Axes>"
            ],
            "image/png": "[encoded data removed]"
          },
          "metadata": {
            "needs_background": "light"
          }
        }
      ]
    }
  ]
}